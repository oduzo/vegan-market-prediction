{
 "metadata": {
  "language_info": {
   "codemirror_mode": {
    "name": "ipython",
    "version": 3
   },
   "file_extension": ".py",
   "mimetype": "text/x-python",
   "name": "python",
   "nbconvert_exporter": "python",
   "pygments_lexer": "ipython3",
   "version": "3.8.5-final"
  },
  "orig_nbformat": 2,
  "kernelspec": {
   "name": "python3",
   "display_name": "Python 3.8.5 64-bit ('ds': conda)",
   "metadata": {
    "interpreter": {
     "hash": "0602bd16cd01ca3480102b0d2c1b5efb0189da4df9ce605956b1a4efeb755acd"
    }
   }
  }
 },
 "nbformat": 4,
 "nbformat_minor": 2,
 "cells": [
  {
   "cell_type": "code",
   "execution_count": null,
   "metadata": {},
   "outputs": [],
   "source": []
  },
  {
   "source": [
    "# Problem description and background\n",
    "\n",
    "It's no secret that vegan market is getting bigger and bigger with time. Even big companies that are famous for their meaty foods are including plant based options to their menus. The problem is that in some countries veganism is not even known or there are only a few options out there, being a big risk to open a vegan restaurant in such a place.\n",
    "\n",
    "In Santiago de Chile veganism has expanded a lot in the last few years, being one of the cities with the largest variety of products for vegans in South America. But the situation is not like that for every city in the country. In fact, just big cities such as Santiago or Viña del Mar follow this pattern. This happens because veganism is usually associated with \"expensive\", even when this is not always the case. When someone thinks about opening a new vegan restaurant or adds a vegan option to their menu, it's usually overpriced just because of the \"vegan\" label.\n",
    "\n",
    "This project will try to solve the question \"Where should I open my vegan restaurant in Santiago de Chile?\", helping people that might want to create their own bussiness and others that might already have one but may be considering to open new branches. Where a company's branch is located is one of the keys to success and must be thought of carefully, a product without enough visibility is never going to sell. In this project, Machine Learning algorithms with some important variables are used to find the best places to start a new vegan restaurant.\n",
    "\n",
    "# Data\n",
    "\n",
    "To answer the question previously stated, three sources of data are going to be used:\n",
    "\n",
    "- Foursquare API: restful API that will be used to get data about restaurants in Santiago.\n",
    "- ESI 2018: a csv file that contains income data.\n",
    "- 2018 census: a csv file that contains data abou t the population of Chile by region."
   ],
   "cell_type": "markdown",
   "metadata": {}
  },
  {
   "cell_type": "code",
   "execution_count": 1,
   "metadata": {},
   "outputs": [],
   "source": [
    "import os\n",
    "import sys\n",
    "\n",
    "nb_dir = os.path.split(os.getcwd())[0]\n",
    "\n",
    "if nb_dir not in sys.path:\n",
    "    sys.path.append(nb_dir)"
   ]
  },
  {
   "cell_type": "code",
   "execution_count": 2,
   "metadata": {
    "tags": []
   },
   "outputs": [],
   "source": [
    "import pandas as pd\n",
    "import numpy as np\n",
    "\n",
    "from vegan_market_prediction.config import CENSUS_DATA_PATH, ESI_DATA_PATH"
   ]
  },
  {
   "cell_type": "code",
   "execution_count": 3,
   "metadata": {
    "tags": []
   },
   "outputs": [
    {
     "output_type": "error",
     "ename": "NameError",
     "evalue": "name 'ESI_DATA_PATH' is not defined",
     "traceback": [
      "\u001b[0;31m---------------------------------------------------------------------------\u001b[0m",
      "\u001b[0;31mNameError\u001b[0m                                 Traceback (most recent call last)",
      "\u001b[0;32m<ipython-input-3-d475f7dd941d>\u001b[0m in \u001b[0;36m<module>\u001b[0;34m\u001b[0m\n\u001b[1;32m      1\u001b[0m \u001b[0mcensus_df\u001b[0m \u001b[0;34m=\u001b[0m \u001b[0mpd\u001b[0m\u001b[0;34m.\u001b[0m\u001b[0mread_csv\u001b[0m\u001b[0;34m(\u001b[0m\u001b[0mCENSUS_DATA_PATH\u001b[0m\u001b[0;34m,\u001b[0m \u001b[0msep\u001b[0m\u001b[0;34m=\u001b[0m\u001b[0;34m\",\"\u001b[0m\u001b[0;34m)\u001b[0m\u001b[0;34m\u001b[0m\u001b[0;34m\u001b[0m\u001b[0m\n\u001b[0;32m----> 2\u001b[0;31m \u001b[0mesi_df\u001b[0m \u001b[0;34m=\u001b[0m \u001b[0mpd\u001b[0m\u001b[0;34m.\u001b[0m\u001b[0mread_csv\u001b[0m\u001b[0;34m(\u001b[0m\u001b[0mESI_DATA_PATH\u001b[0m\u001b[0;34m,\u001b[0m \u001b[0msep\u001b[0m\u001b[0;34m=\u001b[0m\u001b[0;34m\";\"\u001b[0m\u001b[0;34m)\u001b[0m\u001b[0;34m\u001b[0m\u001b[0;34m\u001b[0m\u001b[0m\n\u001b[0m\u001b[1;32m      3\u001b[0m \u001b[0;34m\u001b[0m\u001b[0m\n\u001b[1;32m      4\u001b[0m \u001b[0mprint\u001b[0m\u001b[0;34m(\u001b[0m\u001b[0;34m\"Hello Capstone Project Course!\"\u001b[0m\u001b[0;34m)\u001b[0m\u001b[0;34m\u001b[0m\u001b[0;34m\u001b[0m\u001b[0m\n",
      "\u001b[0;31mNameError\u001b[0m: name 'ESI_DATA_PATH' is not defined"
     ]
    }
   ],
   "source": [
    "census_df = pd.read_csv(CENSUS_DATA_PATH, sep=\",\")\n",
    "esi_df = pd.read_csv(ESI_DATA_PATH, sep=\";\")\n",
    "\n",
    "print(\"Hello Capstone Project Course!\")"
   ]
  },
  {
   "cell_type": "code",
   "execution_count": null,
   "metadata": {},
   "outputs": [],
   "source": []
  }
 ]
}