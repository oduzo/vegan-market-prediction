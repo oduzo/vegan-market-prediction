{
 "metadata": {
  "language_info": {
   "codemirror_mode": {
    "name": "ipython",
    "version": 3
   },
   "file_extension": ".py",
   "mimetype": "text/x-python",
   "name": "python",
   "nbconvert_exporter": "python",
   "pygments_lexer": "ipython3",
   "version": "3.8.5-final"
  },
  "orig_nbformat": 2,
  "kernelspec": {
   "name": "python3",
   "display_name": "Python 3.8.5 64-bit ('ds': conda)",
   "metadata": {
    "interpreter": {
     "hash": "0602bd16cd01ca3480102b0d2c1b5efb0189da4df9ce605956b1a4efeb755acd"
    }
   }
  }
 },
 "nbformat": 4,
 "nbformat_minor": 2,
 "cells": [
  {
   "source": [
    "# Problem description and background\n",
    "\n",
    "It's no secret that vegan market is getting bigger and bigger with time. Even big companies that are famous for their meaty foods are including plant based options to their menus. The problem is that in some countries veganism is not even known or there are only a few options out there, being a big risk to open a vegan restaurant in such a place.\n",
    "\n",
    "In Santiago de Chile veganism has expanded a lot in the last few years, being one of the cities with the largest variety of products for vegans in South America. But the situation is not like that for every city in the country. In fact, just big cities such as Santiago or Viña del Mar follow this pattern. This happens because veganism is usually associated with \"expensive\", even when this is not always the case. When someone thinks about opening a new vegan restaurant or adds a vegan option to their menu, it's usually overpriced just because of the \"vegan\" label.\n",
    "\n",
    "This project will try to solve the question \"Where should I open my vegan restaurant in Santiago de Chile?\", helping people that might want to create their own bussiness and others that might already have one but may be considering to open new branches. Where a company's branch is located is one of the keys to success and must be thought of carefully, a product without enough visibility is never going to sell. In this project, Machine Learning algorithms with some important variables are used to find the best places to start a new vegan restaurant.\n",
    "\n",
    "# Data\n",
    "\n",
    "To answer the question previously stated, three sources of data are going to be used:\n",
    "\n",
    "- Foursquare API: restful API that will be used to get data about restaurants in Santiago. The purpose is to obtain how many restaurants are open in the places considered for this study.\n",
    "- ESI 2018: a csv file that contains income data. Used to get the average income of the places considered for this study.\n",
    "- 2018 census: a csv file that contains data about the population of Chile by region. Used to get the number of people that lives in the places considered for this study.\n",
    "\n",
    "An example for one location in Santiago would be:\n",
    "\n",
    "| County | Average Income (CLP) | Population | Vegan Restaurants |\n",
    "|:----:|:---:|:---:|:---:|\n",
    "| Recoleta | 349000.00 | 148220 | 34 |"
   ],
   "cell_type": "markdown",
   "metadata": {}
  },
  {
   "cell_type": "code",
   "execution_count": 4,
   "metadata": {},
   "outputs": [],
   "source": [
    "import os\n",
    "import sys\n",
    "\n",
    "nb_dir = os.path.split(os.getcwd())[0]\n",
    "\n",
    "if nb_dir not in sys.path:\n",
    "    sys.path.append(nb_dir)"
   ]
  },
  {
   "cell_type": "code",
   "execution_count": 5,
   "metadata": {
    "tags": []
   },
   "outputs": [],
   "source": [
    "import pandas as pd\n",
    "import numpy as np\n",
    "\n",
    "from vegan_market_prediction.config import CENSUS_DATA_PATH, ESI_DATA_PATH"
   ]
  },
  {
   "cell_type": "code",
   "execution_count": 6,
   "metadata": {
    "tags": []
   },
   "outputs": [
    {
     "output_type": "stream",
     "name": "stdout",
     "text": [
      "Hello Capstone Project Course!\n"
     ]
    }
   ],
   "source": [
    "census_df = pd.read_csv(CENSUS_DATA_PATH, sep=\",\")\n",
    "esi_df = pd.read_csv(ESI_DATA_PATH, sep=\";\")\n",
    "\n",
    "print(\"Hello Capstone Project Course!\")"
   ]
  }
 ]
}